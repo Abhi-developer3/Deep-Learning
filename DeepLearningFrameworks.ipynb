{
  "nbformat": 4,
  "nbformat_minor": 0,
  "metadata": {
    "colab": {
      "provenance": []
    },
    "kernelspec": {
      "name": "python3",
      "display_name": "Python 3"
    },
    "language_info": {
      "name": "python"
    }
  },
  "cells": [
    {
      "cell_type": "markdown",
      "source": [
        "#**Deep Learning Frameworks**"
      ],
      "metadata": {
        "id": "ksSOdEVIQmkq"
      }
    },
    {
      "cell_type": "markdown",
      "source": [
        "**Theoretical Questions**"
      ],
      "metadata": {
        "id": "oSEbnzhGQ35p"
      }
    },
    {
      "cell_type": "markdown",
      "source": [
        "**1. What is TensorFlow 2.0, and how is it different from TensorFlow 1.x ?**\n",
        "- TensorFlow 2.0 is a major redesign of Google’s deep‑learning library that defaults to eager execution, integrates Keras tightly as the high‑level API, simplifies graph/Session concepts, and provides cleaner APIs (tf.function for graph compilation, tf.Module/tf.keras.Model for models).\n",
        "\n",
        "Key differences:\n",
        "- Eager by default → more Pythonic, easier debugging. (TF1 used static graphs + Sessions.)\n",
        "- Keras-first → build/train/evaluate with tf.keras.\n",
        "- Graph building when needed via @tf.function (AutoGraph) instead of manual tf.Session().\n",
        "- Unified SavedModel format, simpler distribution strategies.\n",
        "\n",
        "**2.  How do you install TensorFlow 2.0?**\n",
        "- pip install \"tensorflow>=2.0\"\n",
        "\n",
        "**3. What is the primary function of the tf.function in TensorFlow 2.0?**\n",
        "- tf.function compiles a Python function into a high‑performance TensorFlow graph. You keep the eager-style code, but TensorFlow traces it once and runs it fast as a graph for subsequent calls (XLA can further optimize).\n",
        "\n",
        "**4. What is the purpose of the Model class in TensorFlow 2.0?**\n",
        "- tf.keras.Model is the core class for defining neural networks. It:\n",
        "    1. Organizes layers and forward pass (call).\n",
        "    2. Provides fit/evaluate/predict training loops.\n",
        "    3. Manages checkpoints, saving/loading, metrics, and more.\n",
        "\n",
        "**5. How do you create a neural network using TensorFlow 2.0?**\n",
        "- Steps to Create a Neural Network in TensorFlow 2.0\n",
        "\n",
        "1. Define the Model Architecture\n",
        "- A neural network is a collection of layers (input, hidden, output).\n",
        "- In TensorFlow 2.0, the recommended way is using Keras API (tf.keras).\n",
        "- You can build the model in three main ways:\n",
        "    - Sequential API → for simple, linear stacks of layers.\n",
        "    - Functional API → for more complex models (multi-input/output, branching).\n",
        "    - Model Subclassing → for complete flexibility (custom forward pass).\n",
        "\n",
        "2. Add Layers\n",
        "- Layers are the building blocks of the network (e.g., Dense, Convolutional, LSTM).\n",
        "- The first layer must specify the input shape, and subsequent layers automatically infer their shapes.\n",
        "\n",
        "3. Compile the Model\n",
        "- Before training, the model must be compiled.\n",
        "- Compilation requires three key things:\n",
        "   - Optimizer (e.g., SGD, Adam) → defines how weights are updated.\n",
        "   - Loss function (e.g., MSE for regression, categorical cross-entropy for classification) → measures the error.\n",
        "   - Metrics (e.g., accuracy, MAE) → evaluate performance during training.\n",
        "\n",
        "4. Provide Data\n",
        "- Training requires input features (X) and target labels (y).\n",
        "- Data can be NumPy arrays, TensorFlow datasets, or data generators.\n",
        "\n",
        "5. Train the Model\n",
        "- Use the .fit() method, where you specify:\n",
        "    - Input data and labels\n",
        "    - Number of epochs (iterations over the dataset)\n",
        "    - Batch size (number of samples processed before updating weights)\n",
        "\n",
        "- During training, the network adjusts its weights to minimize the loss.\n",
        "\n",
        "6. Evaluate and Predict\n",
        "- After training, you can:\n",
        "    - Evaluate the model using .evaluate() on test data.\n",
        "    - Predict outputs using .predict() on new/unseen data.\n",
        "\n",
        "**6. What is the importance of Tensor Space in TensorFlow?**\n",
        "- A tensor is the primary data structure (n‑dim arrays). Tensor space defines:\n",
        "    - Shape (rank/dimensions), dtype, device (CPU/GPU/TPU).\n",
        "    - Broadcasting rules and linear‑algebra semantics. Understanding tensor shapes/dtypes is essential for building correct, efficient models.\n",
        "\n",
        "**7. How can TensorBoard be integrated with TensorFlow 2.0?**\n",
        "- TensorBoard Integration in TensorFlow 2.0 (Theory)\n",
        "1. Purpose:\n",
        "- TensorBoard is TensorFlow’s visualization toolkit.\n",
        "- It allows monitoring of training progress, metrics (loss, accuracy), model graphs, histograms, images, embeddings, etc.\n",
        "\n",
        "2. Integration Process:\n",
        "- In TensorFlow 2.0, you integrate TensorBoard mainly through a Keras Callback (tf.keras.callbacks.TensorBoard).\n",
        "- During training (model.fit), this callback automatically logs training/validation metrics to a specified log directory.\n",
        "\n",
        "3. Steps in Theory:\n",
        "- Define a log directory (e.g., logs/fit).\n",
        "- Attach the TensorBoard callback to the training process.\n",
        "- Train the model → logs (loss, accuracy, etc.) are written during each epoch.\n",
        "- Launch TensorBoard (using the command tensorboard --logdir=logs) to view results in a web-based dashboard.\n",
        "\n",
        "4. Additional Usage:\n",
        "- Besides automatic logging, TensorFlow allows writing custom summaries (scalars, histograms, images) with tf.summary inside a with tf.summary.create_file_writer(log_dir).as_default(): block.\n",
        "\n",
        "**8. What is the purpose of TensorFlow Playground?**\n",
        "- A browser‑based interactive tool to visualize and experiment with small neural nets on toy datasets (play with layers, activations, learning rates) to build intuition.\n",
        "\n",
        "**9. What is Netron, and how is it useful for deep learning models?**\n",
        "- Netron is a visual model explorer for formats like TensorFlow SavedModel, ONNX, PyTorch .pt (via TorchScript/ONNX), CoreML, etc. It helps inspect layer graphs, shapes, and parameters without executing the model.\n",
        "\n",
        "**10. What is the difference between TensorFlow and PyTorch?**\n",
        "- Execution: TF2 eager by default + optional graph (tf.function) vs PyTorch define‑by‑run eager execution with optional TorchScript.\n",
        "- Ecosystem: TF has TFX, TensorBoard; PyTorch has strong research adoption, Lightning, TorchMetrics, etc.\n",
        "- Deployment: TF Serving / TFLite / TF.js vs TorchServe / TorchScript / ONNX / ExecuTorch. In practice, both are capable; choice depends on team skills, tooling, and deployment targets.\n",
        "\n",
        "**11. How do you install PyTorch?**\n",
        "- Go to the official selector and run the suggested command. Common CPU example:\n",
        "\n",
        "pip install torch torchvision torchaudio\n",
        "\n",
        "**12. What is the basic structure of a PyTorch neural network?**\n",
        "- Basic Structure of a PyTorch Neural Network\n",
        "\n",
        "1. Class Definition:\n",
        "- Inherit from torch.nn.Module, the base class for all neural network modules in PyTorch.\n",
        "- This allows your model to leverage built-in functionality like parameter management and forward pass handling.\n",
        "\n",
        "2. Constructor (__init__):\n",
        "- Define the layers and components of the neural network (e.g., linear layers, convolutional layers, activation functions).\n",
        "- Use nn.Module components like nn.Linear, nn.Conv2d, nn.ReLU, etc., to define the architecture.\n",
        "- Initialize these layers with appropriate parameters (e.g., input/output dimensions).\n",
        "\n",
        "3. Forward Method (forward):\n",
        "- Define the forward pass, which specifies how input data flows through the layers to produce an output.\n",
        "- This method is called automatically when you pass data through the model (e.g., model(input)).\n",
        "\n",
        "4. Instantiation and Usage:\n",
        "- Create an instance of the model.\n",
        "- Use it for training or inference by passing input data and defining a loss function, optimizer, and training loop.\n",
        "\n",
        "**13. What is the significance of tensors in PyTorch?**\n",
        "- Tensors are the core n‑dim array with automatic differentiation support (requires_grad=True) and device placement (CPU/GPU). They power both data and parameters.\n",
        "\n",
        "**14. What is the difference between torch.Tensor and torch.cuda.Tensor in PyTorch?**\n",
        "- torch.Tensor is a generic CPU tensor type; torch.cuda.Tensor resides on a NVIDIA GPU. Modern PyTorch uses the same class with a device attribute; you typically move via .to(device) or .cuda(). Operations must occur on the same device.\n",
        "\n",
        "**15. What is the purpose of the torch.optim module in PyTorch?**\n",
        "- It provides optimizers (SGD, Adam, RMSprop, etc.) to update parameters using gradients computed by autograd.\n",
        "\n",
        "**16. What are some common activation functions used in neural networks?**\n",
        "- Sigmoid, Tanh, ReLU, LeakyReLU, ELU, GELU, Softplus, Softmax (for probabilities), Swish/SiLU.\n",
        "\n",
        "**17. What is the difference between torch.nn.Module and torch.nn.Sequential in PyTorch?**\n",
        "- nn.Module is the base class for any model/component; you implement arbitrary graphs in forward.\n",
        "- nn.Sequential is a container that feeds input through layers in order (simple chains). Use Module for complex architectures (skip connections, multi‑input, etc.).\n",
        "\n",
        "**18. How can you monitor training progress in TensorFlow 2.0?**\n",
        "- model.fit(...).history (loss/metrics per epoch)\n",
        "- Callbacks: TensorBoard, ModelCheckpoint, EarlyStopping, CSVLogger, ReduceLROnPlateau\n",
        "- Custom Keras callbacks for fine‑grained logging.\n",
        "\n",
        "**19. How does the Keras API fit into TensorFlow 2.0?**\n",
        "- Keras is the official high‑level API inside TensorFlow: tf.keras provides layers, models, losses, metrics, optimizers, training loops, and serialization.\n",
        "\n",
        "**20. What is an example of a deep learning project that can be implemented using TensorFlow 2.0?**\n",
        "- A CNN for MNIST (handwritten digit classification) or image classifier via transfer learning (e.g., fine‑tuning MobileNetV2 on a custom dataset) with TensorBoard monitoring and SavedModel export.\n",
        "\n",
        "**21. What is the main advantage of using pre-trained models in TensorFlow and PyTorch?**\n",
        "- Transfer learning: you start from weights learned on large datasets (e.g., ImageNet), leading to faster convergence, better accuracy with limited data, and lower compute cost."
      ],
      "metadata": {
        "id": "zW2nztJQRTke"
      }
    },
    {
      "cell_type": "markdown",
      "source": [
        "**Practical Questions**"
      ],
      "metadata": {
        "id": "krxPu-l3bi-V"
      }
    },
    {
      "cell_type": "code",
      "source": [
        "# 1. How do you install and verify that TensorFlow 2.0 was installed successfully?\n",
        "# !pip install \"tensorflow>=2.0\"\n",
        "import tensorflow as tf\n",
        "print(\"TF version:\", tf.__version__)"
      ],
      "metadata": {
        "colab": {
          "base_uri": "https://localhost:8080/"
        },
        "id": "ALYXL8_Ybr1h",
        "outputId": "09a28726-7de4-4124-c0f5-38c806a8877c"
      },
      "execution_count": 8,
      "outputs": [
        {
          "output_type": "stream",
          "name": "stdout",
          "text": [
            "TF version: 2.19.0\n"
          ]
        }
      ]
    },
    {
      "cell_type": "code",
      "source": [
        "# 2. How can you define a simple function in TensorFlow 2.0 to perform addition?\n",
        "import tensorflow as tf\n",
        "@tf.function\n",
        "def add_fn(a, b):\n",
        "  a = tf.convert_to_tensor(a, dtype=tf.float32)\n",
        "  b = tf.convert_to_tensor(b, dtype=tf.float32)\n",
        "  return a + b\n",
        "\n",
        "print(add_fn(3, 4).numpy())"
      ],
      "metadata": {
        "colab": {
          "base_uri": "https://localhost:8080/"
        },
        "id": "HpfVdBiucZvj",
        "outputId": "0fec3db0-260a-4503-f78e-e64d55391aca"
      },
      "execution_count": 3,
      "outputs": [
        {
          "output_type": "stream",
          "name": "stdout",
          "text": [
            "7.0\n"
          ]
        }
      ]
    },
    {
      "cell_type": "code",
      "source": [
        "# 3. How can you create a simple neural network in TensorFlow 2.0 with one hidden layer?\n",
        "import tensorflow as tf\n",
        "import numpy as np\n",
        "n_samples = 1000\n",
        "n_features = 10\n",
        "\n",
        "X = np.random.randn(n_samples, n_features).astype(\"float32\")\n",
        "y = (X.sum(axis=1, keepdims=True) + 0.1*np.random.randn(n_samples,1)).astype(\"float32\")\n",
        "\n",
        "model = tf.keras.Sequential([\n",
        "tf.keras.layers.Dense(32, activation='relu', input_shape=(n_features,)),\n",
        "tf.keras.layers.Dense(1)\n",
        "])\n",
        "model.compile(optimizer='adam', loss='mse', metrics=['mae'])\n",
        "history = model.fit(X, y, epochs=20, batch_size=32, verbose=0)\n",
        "print(model.evaluate(X, y, verbose=0))"
      ],
      "metadata": {
        "colab": {
          "base_uri": "https://localhost:8080/"
        },
        "id": "P5fMAFHRcuzH",
        "outputId": "b9a9860b-88d3-408e-abbe-d3068b01fa90"
      },
      "execution_count": 4,
      "outputs": [
        {
          "output_type": "stream",
          "name": "stderr",
          "text": [
            "/usr/local/lib/python3.12/dist-packages/keras/src/layers/core/dense.py:93: UserWarning: Do not pass an `input_shape`/`input_dim` argument to a layer. When using Sequential models, prefer using an `Input(shape)` object as the first layer in the model instead.\n",
            "  super().__init__(activity_regularizer=activity_regularizer, **kwargs)\n"
          ]
        },
        {
          "output_type": "stream",
          "name": "stdout",
          "text": [
            "[0.05937109515070915, 0.19312703609466553]\n"
          ]
        }
      ]
    },
    {
      "cell_type": "code",
      "source": [
        "# 4. How can you visualize the training progress using TensorFlow and Matplotlib?\n",
        "import tensorflow as tf\n",
        "import numpy as np\n",
        "import matplotlib.pyplot as plt\n",
        "\n",
        "X = np.random.randn(200, 10)\n",
        "y = X.sum(axis=1, keepdims=True) + 0.1*np.random.randn(200, 1)\n",
        "\n",
        "model = tf.keras.Sequential([\n",
        "    tf.keras.layers.Dense(32, activation='relu', input_shape=(10,)),\n",
        "    tf.keras.layers.Dense(1)\n",
        "])\n",
        "\n",
        "# Compile model\n",
        "model.compile(optimizer='adam', loss='mse', metrics=['mae'])\n",
        "\n",
        "# Train and capture history\n",
        "history = model.fit(X, y, epochs=20, batch_size=16, validation_split=0.2, verbose=0)\n",
        "\n",
        "# Plot Training & Validation Loss\n",
        "plt.figure(figsize=(8,4))\n",
        "plt.plot(history.history['loss'], label='Training Loss')\n",
        "plt.plot(history.history['val_loss'], label='Validation Loss')\n",
        "plt.title(\"Model Loss Progress\")\n",
        "plt.xlabel(\"Epochs\")\n",
        "plt.ylabel(\"Loss (MSE)\")\n",
        "plt.legend()\n",
        "plt.show()\n",
        "\n",
        "# Plot Training & Validation MAE\n",
        "plt.figure(figsize=(8,4))\n",
        "plt.plot(history.history['mae'], label='Training MAE')\n",
        "plt.plot(history.history['val_mae'], label='Validation MAE')\n",
        "plt.title(\"Model MAE Progress\")\n",
        "plt.xlabel(\"Epochs\")\n",
        "plt.ylabel(\"MAE\")\n",
        "plt.legend()\n",
        "plt.show()"
      ],
      "metadata": {
        "colab": {
          "base_uri": "https://localhost:8080/",
          "height": 858
        },
        "id": "_nRPYkk-dKE-",
        "outputId": "64855c89-d84e-4ce4-feec-a5ca455a9f82"
      },
      "execution_count": 5,
      "outputs": [
        {
          "output_type": "stream",
          "name": "stderr",
          "text": [
            "/usr/local/lib/python3.12/dist-packages/keras/src/layers/core/dense.py:93: UserWarning: Do not pass an `input_shape`/`input_dim` argument to a layer. When using Sequential models, prefer using an `Input(shape)` object as the first layer in the model instead.\n",
            "  super().__init__(activity_regularizer=activity_regularizer, **kwargs)\n"
          ]
        },
        {
          "output_type": "display_data",
          "data": {
            "text/plain": [
              "<Figure size 800x400 with 1 Axes>"
            ],
            "image/png": "[encoded data removed]"
          },
          "metadata": {}
        },
        {
          "output_type": "display_data",
          "data": {
            "text/plain": [
              "<Figure size 800x400 with 1 Axes>"
            ],
            "image/png": "[encoded data removed]"
          },
          "metadata": {}
        }
      ]
    },
    {
      "cell_type": "code",
      "source": [
        "# 5. How do you install PyTorch and verify the PyTorch installation?\n",
        "#  !pip3 install torch torchvision torchaudio\n",
        "import torch\n",
        "print(\"PyTorch version:\", torch.__version__)"
      ],
      "metadata": {
        "colab": {
          "base_uri": "https://localhost:8080/"
        },
        "id": "0eUYVvhEdkzR",
        "outputId": "8fd0e8d8-5f82-43a8-e6b3-9a491b91f4d8"
      },
      "execution_count": 7,
      "outputs": [
        {
          "output_type": "stream",
          "name": "stdout",
          "text": [
            "PyTorch version: 2.8.0+cu126\n"
          ]
        }
      ]
    },
    {
      "cell_type": "code",
      "source": [
        "# 6. How do you create a simple neural network in PyTorch?\n",
        "import torch\n",
        "import torch.nn as nn\n",
        "import torch.optim as optim\n",
        "\n",
        "class Net(nn.Module):\n",
        "    def __init__(self, in_dim, hidden, out_dim):\n",
        "      super().__init__()\n",
        "      self.net = nn.Sequential(\n",
        "         nn.Linear(in_dim, hidden),\n",
        "         nn.ReLU(),\n",
        "         nn.Linear(hidden, out_dim)\n",
        "      )\n",
        "\n",
        "    def forward(self, x):\n",
        "        return self.net(x)\n",
        "\n",
        "X = torch.randn(256, 10)\n",
        "y = X.sum(dim=1, keepdim=True) + 0.1*torch.randn(256,1)\n",
        "\n",
        "\n",
        "model = Net(10, 32, 1)\n",
        "criterion = nn.MSELoss()\n",
        "optimizer = optim.Adam(model.parameters(), lr=1e-3)\n",
        "\n",
        "\n",
        "for epoch in range(20):\n",
        "    optimizer.zero_grad()\n",
        "    preds = model(X)\n",
        "    loss = criterion(preds, y)\n",
        "    loss.backward()\n",
        "    optimizer.step()\n",
        "    if (epoch+1) % 5 == 0:\n",
        "        print(f\"Epoch {epoch+1}: loss={loss.item():.4f}\")"
      ],
      "metadata": {
        "colab": {
          "base_uri": "https://localhost:8080/"
        },
        "id": "kF9isc6zd8EO",
        "outputId": "0d0952ab-fba3-4965-bfa3-d299c509f6e0"
      },
      "execution_count": 10,
      "outputs": [
        {
          "output_type": "stream",
          "name": "stdout",
          "text": [
            "Epoch 5: loss=10.7207\n",
            "Epoch 10: loss=10.4852\n",
            "Epoch 15: loss=10.2542\n",
            "Epoch 20: loss=10.0240\n"
          ]
        }
      ]
    },
    {
      "cell_type": "code",
      "source": [
        "# 7. How do you define a loss function and optimizer in PyTorch?\n",
        "import torch\n",
        "import torch.nn as nn\n",
        "import torch.optim as optim\n",
        "\n",
        "model = nn.Sequential(\n",
        "    nn.Linear(10, 32),\n",
        "    nn.ReLU(),\n",
        "    nn.Linear(32, 1)\n",
        ")\n",
        "\n",
        "# Define a loss function (e.g., Mean Squared Error for regression)\n",
        "criterion = nn.MSELoss()\n",
        "\n",
        "# Define an optimizer (e.g., Adam)\n",
        "optimizer = optim.Adam(model.parameters(), lr=0.001)\n",
        "\n",
        "# Example usage in a training step\n",
        "X = torch.randn(16, 10)\n",
        "y = torch.randn(16, 1)\n",
        "\n",
        "# Forward pass\n",
        "preds = model(X)\n",
        "loss = criterion(preds, y)\n",
        "\n",
        "# Backward pass + weight update\n",
        "optimizer.zero_grad()\n",
        "loss.backward()\n",
        "optimizer.step()\n",
        "\n",
        "print(\"Loss:\", loss.item())\n"
      ],
      "metadata": {
        "colab": {
          "base_uri": "https://localhost:8080/"
        },
        "id": "1kWsMysYfbpO",
        "outputId": "b01542c1-3434-476a-ffe6-6f65b5b7c10f"
      },
      "execution_count": 12,
      "outputs": [
        {
          "output_type": "stream",
          "name": "stdout",
          "text": [
            "Loss: 1.6916558742523193\n"
          ]
        }
      ]
    },
    {
      "cell_type": "code",
      "source": [
        "# 8. How do you implement a custom loss function in PyTorch?\n",
        "import torch\n",
        "import torch.nn as nn\n",
        "\n",
        "class CustomLoss(nn.Module):\n",
        "    def __init__(self, alpha=0.5):\n",
        "        super().__init__()\n",
        "        self.alpha = alpha\n",
        "\n",
        "    def forward(self, y_pred, y_true):\n",
        "        l1 = torch.mean(torch.abs(y_pred - y_true))\n",
        "        l2 = torch.mean((y_pred - y_true) ** 2)\n",
        "        return self.alpha * l1 + (1 - self.alpha) * l2\n",
        "\n",
        "# Example usage\n",
        "loss_fn = CustomLoss(alpha=0.3)\n",
        "\n",
        "y_true = torch.randn(4, 1)\n",
        "y_pred = torch.randn(4, 1)\n",
        "\n",
        "loss = loss_fn(y_pred, y_true)\n",
        "print(\"Custom Loss:\", loss.item())"
      ],
      "metadata": {
        "colab": {
          "base_uri": "https://localhost:8080/"
        },
        "id": "1aFkkSZjfu-h",
        "outputId": "a6cac40c-3c60-419f-f5e6-d0252f834ac2"
      },
      "execution_count": 14,
      "outputs": [
        {
          "output_type": "stream",
          "name": "stdout",
          "text": [
            "Custom Loss: 0.44394809007644653\n"
          ]
        }
      ]
    },
    {
      "cell_type": "code",
      "source": [
        "# 9. How do you save and load a TensorFlow model?\n",
        "import tensorflow as tf\n",
        "\n",
        "model = tf.keras.Sequential([\n",
        "    tf.keras.layers.Dense(32, activation='relu', input_shape=(10,)),\n",
        "    tf.keras.layers.Dense(1)\n",
        "])\n",
        "\n",
        "model.compile(optimizer='adam', loss='mse')\n",
        "\n",
        "# --- Save the model ---\n",
        "model.save(\"my_model.keras\")\n",
        "\n",
        "# --- Load the model ---\n",
        "loaded_model = tf.keras.models.load_model(\"my_model.keras\")\n",
        "\n",
        "# Check\n",
        "print(\"Loaded model summary:\")\n",
        "loaded_model.summary()"
      ],
      "metadata": {
        "colab": {
          "base_uri": "https://localhost:8080/",
          "height": 316
        },
        "id": "2j0PZJnKgQI_",
        "outputId": "8a1e34ca-3fd3-4b35-aa30-1a178d24fa28"
      },
      "execution_count": 18,
      "outputs": [
        {
          "output_type": "stream",
          "name": "stdout",
          "text": [
            "Loaded model summary:\n"
          ]
        },
        {
          "output_type": "stream",
          "name": "stderr",
          "text": [
            "/usr/local/lib/python3.12/dist-packages/keras/src/layers/core/dense.py:93: UserWarning: Do not pass an `input_shape`/`input_dim` argument to a layer. When using Sequential models, prefer using an `Input(shape)` object as the first layer in the model instead.\n",
            "  super().__init__(activity_regularizer=activity_regularizer, **kwargs)\n",
            "/usr/local/lib/python3.12/dist-packages/keras/src/saving/saving_lib.py:802: UserWarning: Skipping variable loading for optimizer 'adam', because it has 10 variables whereas the saved optimizer has 2 variables. \n",
            "  saveable.load_own_variables(weights_store.get(inner_path))\n"
          ]
        },
        {
          "output_type": "display_data",
          "data": {
            "text/plain": [
              "\u001b[1mModel: \"sequential_5\"\u001b[0m\n"
            ],
            "text/html": [
              "<pre style=\"white-space:pre;overflow-x:auto;line-height:normal;font-family:Menlo,'DejaVu Sans Mono',consolas,'Courier New',monospace\"><span style=\"font-weight: bold\">Model: \"sequential_5\"</span>\n",
              "</pre>\n"
            ]
          },
          "metadata": {}
        },
        {
          "output_type": "display_data",
          "data": {
            "text/plain": [
              "┏━━━━━━━━━━━━━━━━━━━━━━━━━━━━━━━━━┳━━━━━━━━━━━━━━━━━━━━━━━━┳━━━━━━━━━━━━━━━┓\n",
              "┃\u001b[1m \u001b[0m\u001b[1mLayer (type)                   \u001b[0m\u001b[1m \u001b[0m┃\u001b[1m \u001b[0m\u001b[1mOutput Shape          \u001b[0m\u001b[1m \u001b[0m┃\u001b[1m \u001b[0m\u001b[1m      Param #\u001b[0m\u001b[1m \u001b[0m┃\n",
              "┡━━━━━━━━━━━━━━━━━━━━━━━━━━━━━━━━━╇━━━━━━━━━━━━━━━━━━━━━━━━╇━━━━━━━━━━━━━━━┩\n",
              "│ dense_10 (\u001b[38;5;33mDense\u001b[0m)                │ (\u001b[38;5;45mNone\u001b[0m, \u001b[38;5;34m32\u001b[0m)             │           \u001b[38;5;34m352\u001b[0m │\n",
              "├─────────────────────────────────┼────────────────────────┼───────────────┤\n",
              "│ dense_11 (\u001b[38;5;33mDense\u001b[0m)                │ (\u001b[38;5;45mNone\u001b[0m, \u001b[38;5;34m1\u001b[0m)              │            \u001b[38;5;34m33\u001b[0m │\n",
              "└─────────────────────────────────┴────────────────────────┴───────────────┘\n"
            ],
            "text/html": [
              "<pre style=\"white-space:pre;overflow-x:auto;line-height:normal;font-family:Menlo,'DejaVu Sans Mono',consolas,'Courier New',monospace\">┏━━━━━━━━━━━━━━━━━━━━━━━━━━━━━━━━━┳━━━━━━━━━━━━━━━━━━━━━━━━┳━━━━━━━━━━━━━━━┓\n",
              "┃<span style=\"font-weight: bold\"> Layer (type)                    </span>┃<span style=\"font-weight: bold\"> Output Shape           </span>┃<span style=\"font-weight: bold\">       Param # </span>┃\n",
              "┡━━━━━━━━━━━━━━━━━━━━━━━━━━━━━━━━━╇━━━━━━━━━━━━━━━━━━━━━━━━╇━━━━━━━━━━━━━━━┩\n",
              "│ dense_10 (<span style=\"color: #0087ff; text-decoration-color: #0087ff\">Dense</span>)                │ (<span style=\"color: #00d7ff; text-decoration-color: #00d7ff\">None</span>, <span style=\"color: #00af00; text-decoration-color: #00af00\">32</span>)             │           <span style=\"color: #00af00; text-decoration-color: #00af00\">352</span> │\n",
              "├─────────────────────────────────┼────────────────────────┼───────────────┤\n",
              "│ dense_11 (<span style=\"color: #0087ff; text-decoration-color: #0087ff\">Dense</span>)                │ (<span style=\"color: #00d7ff; text-decoration-color: #00d7ff\">None</span>, <span style=\"color: #00af00; text-decoration-color: #00af00\">1</span>)              │            <span style=\"color: #00af00; text-decoration-color: #00af00\">33</span> │\n",
              "└─────────────────────────────────┴────────────────────────┴───────────────┘\n",
              "</pre>\n"
            ]
          },
          "metadata": {}
        },
        {
          "output_type": "display_data",
          "data": {
            "text/plain": [
              "\u001b[1m Total params: \u001b[0m\u001b[38;5;34m1,157\u001b[0m (4.52 KB)\n"
            ],
            "text/html": [
              "<pre style=\"white-space:pre;overflow-x:auto;line-height:normal;font-family:Menlo,'DejaVu Sans Mono',consolas,'Courier New',monospace\"><span style=\"font-weight: bold\"> Total params: </span><span style=\"color: #00af00; text-decoration-color: #00af00\">1,157</span> (4.52 KB)\n",
              "</pre>\n"
            ]
          },
          "metadata": {}
        },
        {
          "output_type": "display_data",
          "data": {
            "text/plain": [
              "\u001b[1m Trainable params: \u001b[0m\u001b[38;5;34m385\u001b[0m (1.50 KB)\n"
            ],
            "text/html": [
              "<pre style=\"white-space:pre;overflow-x:auto;line-height:normal;font-family:Menlo,'DejaVu Sans Mono',consolas,'Courier New',monospace\"><span style=\"font-weight: bold\"> Trainable params: </span><span style=\"color: #00af00; text-decoration-color: #00af00\">385</span> (1.50 KB)\n",
              "</pre>\n"
            ]
          },
          "metadata": {}
        },
        {
          "output_type": "display_data",
          "data": {
            "text/plain": [
              "\u001b[1m Non-trainable params: \u001b[0m\u001b[38;5;34m0\u001b[0m (0.00 B)\n"
            ],
            "text/html": [
              "<pre style=\"white-space:pre;overflow-x:auto;line-height:normal;font-family:Menlo,'DejaVu Sans Mono',consolas,'Courier New',monospace\"><span style=\"font-weight: bold\"> Non-trainable params: </span><span style=\"color: #00af00; text-decoration-color: #00af00\">0</span> (0.00 B)\n",
              "</pre>\n"
            ]
          },
          "metadata": {}
        },
        {
          "output_type": "display_data",
          "data": {
            "text/plain": [
              "\u001b[1m Optimizer params: \u001b[0m\u001b[38;5;34m772\u001b[0m (3.02 KB)\n"
            ],
            "text/html": [
              "<pre style=\"white-space:pre;overflow-x:auto;line-height:normal;font-family:Menlo,'DejaVu Sans Mono',consolas,'Courier New',monospace\"><span style=\"font-weight: bold\"> Optimizer params: </span><span style=\"color: #00af00; text-decoration-color: #00af00\">772</span> (3.02 KB)\n",
              "</pre>\n"
            ]
          },
          "metadata": {}
        }
      ]
    }
  ]
}